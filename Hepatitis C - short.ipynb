{
 "cells": [
  {
   "cell_type": "code",
   "execution_count": 1,
   "id": "7e5ec2fc",
   "metadata": {},
   "outputs": [],
   "source": [
    "import pandas as pd\n",
    "import numpy as np"
   ]
  },
  {
   "cell_type": "code",
   "execution_count": 2,
   "id": "65368bb6",
   "metadata": {},
   "outputs": [
    {
     "data": {
      "text/html": [
       "<div>\n",
       "<style scoped>\n",
       "    .dataframe tbody tr th:only-of-type {\n",
       "        vertical-align: middle;\n",
       "    }\n",
       "\n",
       "    .dataframe tbody tr th {\n",
       "        vertical-align: top;\n",
       "    }\n",
       "\n",
       "    .dataframe thead th {\n",
       "        text-align: right;\n",
       "    }\n",
       "</style>\n",
       "<table border=\"1\" class=\"dataframe\">\n",
       "  <thead>\n",
       "    <tr style=\"text-align: right;\">\n",
       "      <th></th>\n",
       "      <th>CMPD_CHEMBLID</th>\n",
       "      <th>CANONICAL_SMILES</th>\n",
       "      <th>STANDARD_TYPE</th>\n",
       "      <th>RELATION</th>\n",
       "      <th>STANDARD_VALUE</th>\n",
       "      <th>STANDARD_UNITS</th>\n",
       "      <th>pIC50</th>\n",
       "      <th>PROTEIN_ACCESSION</th>\n",
       "      <th>PREF_NAME</th>\n",
       "      <th>DOC_CHEMBLID</th>\n",
       "      <th>...</th>\n",
       "      <th>JOURNAL</th>\n",
       "      <th>YEAR</th>\n",
       "      <th>VOLUME</th>\n",
       "      <th>ISSUE</th>\n",
       "      <th>FIRST_PAGE</th>\n",
       "      <th>MOLWEIGHT</th>\n",
       "      <th>ALOGP</th>\n",
       "      <th>PSA</th>\n",
       "      <th>NUM_RO5_VIOLATIONS</th>\n",
       "      <th>Activity</th>\n",
       "    </tr>\n",
       "  </thead>\n",
       "  <tbody>\n",
       "    <tr>\n",
       "      <th>0</th>\n",
       "      <td>CHEMBL179256</td>\n",
       "      <td>OC(=O)c1ccc2c(c1)nc(c3ccc(O)cc3F)n2C4CCCCC4</td>\n",
       "      <td>IC50</td>\n",
       "      <td>=</td>\n",
       "      <td>1.4</td>\n",
       "      <td>nM</td>\n",
       "      <td>8.853872</td>\n",
       "      <td>Q8JXU8</td>\n",
       "      <td>Hepatitis C virus NS5B RNA-dependent RNA polym...</td>\n",
       "      <td>CHEMBL1142688</td>\n",
       "      <td>...</td>\n",
       "      <td>J. Med. Chem.</td>\n",
       "      <td>2005</td>\n",
       "      <td>48.0</td>\n",
       "      <td>5.0</td>\n",
       "      <td>1314.0</td>\n",
       "      <td>354.37</td>\n",
       "      <td>4.93</td>\n",
       "      <td>75.35</td>\n",
       "      <td>0</td>\n",
       "      <td>Active</td>\n",
       "    </tr>\n",
       "    <tr>\n",
       "      <th>1</th>\n",
       "      <td>CHEMBL204350</td>\n",
       "      <td>CC(C)(C)CCN1[C@H](C(=C(C1=O)C2=NS(=O)(=O)c3ccc...</td>\n",
       "      <td>IC50</td>\n",
       "      <td>=</td>\n",
       "      <td>1.7</td>\n",
       "      <td>nM</td>\n",
       "      <td>8.769551</td>\n",
       "      <td>Q8JXU8</td>\n",
       "      <td>Hepatitis C virus NS5B RNA-dependent RNA polym...</td>\n",
       "      <td>CHEMBL1146957</td>\n",
       "      <td>...</td>\n",
       "      <td>Bioorg. Med. Chem. Lett.</td>\n",
       "      <td>2006</td>\n",
       "      <td>16.0</td>\n",
       "      <td>8.0</td>\n",
       "      <td>2205.0</td>\n",
       "      <td>419.54</td>\n",
       "      <td>2.37</td>\n",
       "      <td>107.45</td>\n",
       "      <td>0</td>\n",
       "      <td>Active</td>\n",
       "    </tr>\n",
       "    <tr>\n",
       "      <th>2</th>\n",
       "      <td>CHEMBL179257</td>\n",
       "      <td>OC(=O)c1ccc2c(c1)nc(c3ccc(O)cc3)n2C4CCCCC4</td>\n",
       "      <td>IC50</td>\n",
       "      <td>=</td>\n",
       "      <td>3.0</td>\n",
       "      <td>nM</td>\n",
       "      <td>8.522879</td>\n",
       "      <td>Q8JXU8</td>\n",
       "      <td>Hepatitis C virus NS5B RNA-dependent RNA polym...</td>\n",
       "      <td>CHEMBL1142688</td>\n",
       "      <td>...</td>\n",
       "      <td>J. Med. Chem.</td>\n",
       "      <td>2005</td>\n",
       "      <td>48.0</td>\n",
       "      <td>5.0</td>\n",
       "      <td>1314.0</td>\n",
       "      <td>336.38</td>\n",
       "      <td>4.72</td>\n",
       "      <td>75.35</td>\n",
       "      <td>0</td>\n",
       "      <td>Active</td>\n",
       "    </tr>\n",
       "    <tr>\n",
       "      <th>3</th>\n",
       "      <td>CHEMBL178784</td>\n",
       "      <td>OC(=O)c1ccc2c(C3CCCCC3)c([nH]c2c1)c4ccc(O)cc4</td>\n",
       "      <td>IC50</td>\n",
       "      <td>=</td>\n",
       "      <td>4.8</td>\n",
       "      <td>nM</td>\n",
       "      <td>8.318759</td>\n",
       "      <td>Q8JXU8</td>\n",
       "      <td>Hepatitis C virus NS5B RNA-dependent RNA polym...</td>\n",
       "      <td>CHEMBL1142688</td>\n",
       "      <td>...</td>\n",
       "      <td>J. Med. Chem.</td>\n",
       "      <td>2005</td>\n",
       "      <td>48.0</td>\n",
       "      <td>5.0</td>\n",
       "      <td>1314.0</td>\n",
       "      <td>335.40</td>\n",
       "      <td>5.51</td>\n",
       "      <td>73.32</td>\n",
       "      <td>1</td>\n",
       "      <td>Active</td>\n",
       "    </tr>\n",
       "    <tr>\n",
       "      <th>4</th>\n",
       "      <td>CHEMBL369319</td>\n",
       "      <td>CN(C)C(=O)Cn1c(c2ccc(OCc3ccccc3)cc2)c(C4CCCCC4...</td>\n",
       "      <td>IC50</td>\n",
       "      <td>=</td>\n",
       "      <td>6.0</td>\n",
       "      <td>nM</td>\n",
       "      <td>8.221849</td>\n",
       "      <td>Q8JXU8</td>\n",
       "      <td>Hepatitis C virus NS5B RNA-dependent RNA polym...</td>\n",
       "      <td>CHEMBL1142688</td>\n",
       "      <td>...</td>\n",
       "      <td>J. Med. Chem.</td>\n",
       "      <td>2005</td>\n",
       "      <td>48.0</td>\n",
       "      <td>5.0</td>\n",
       "      <td>1314.0</td>\n",
       "      <td>510.62</td>\n",
       "      <td>6.79</td>\n",
       "      <td>71.77</td>\n",
       "      <td>2</td>\n",
       "      <td>Active</td>\n",
       "    </tr>\n",
       "  </tbody>\n",
       "</table>\n",
       "<p>5 rows × 23 columns</p>\n",
       "</div>"
      ],
      "text/plain": [
       "  CMPD_CHEMBLID                                   CANONICAL_SMILES  \\\n",
       "0  CHEMBL179256        OC(=O)c1ccc2c(c1)nc(c3ccc(O)cc3F)n2C4CCCCC4   \n",
       "1  CHEMBL204350  CC(C)(C)CCN1[C@H](C(=C(C1=O)C2=NS(=O)(=O)c3ccc...   \n",
       "2  CHEMBL179257         OC(=O)c1ccc2c(c1)nc(c3ccc(O)cc3)n2C4CCCCC4   \n",
       "3  CHEMBL178784      OC(=O)c1ccc2c(C3CCCCC3)c([nH]c2c1)c4ccc(O)cc4   \n",
       "4  CHEMBL369319  CN(C)C(=O)Cn1c(c2ccc(OCc3ccccc3)cc2)c(C4CCCCC4...   \n",
       "\n",
       "  STANDARD_TYPE RELATION  STANDARD_VALUE STANDARD_UNITS     pIC50  \\\n",
       "0          IC50        =             1.4             nM  8.853872   \n",
       "1          IC50        =             1.7             nM  8.769551   \n",
       "2          IC50        =             3.0             nM  8.522879   \n",
       "3          IC50        =             4.8             nM  8.318759   \n",
       "4          IC50        =             6.0             nM  8.221849   \n",
       "\n",
       "  PROTEIN_ACCESSION                                          PREF_NAME  \\\n",
       "0            Q8JXU8  Hepatitis C virus NS5B RNA-dependent RNA polym...   \n",
       "1            Q8JXU8  Hepatitis C virus NS5B RNA-dependent RNA polym...   \n",
       "2            Q8JXU8  Hepatitis C virus NS5B RNA-dependent RNA polym...   \n",
       "3            Q8JXU8  Hepatitis C virus NS5B RNA-dependent RNA polym...   \n",
       "4            Q8JXU8  Hepatitis C virus NS5B RNA-dependent RNA polym...   \n",
       "\n",
       "    DOC_CHEMBLID  ...                   JOURNAL  YEAR  VOLUME ISSUE  \\\n",
       "0  CHEMBL1142688  ...             J. Med. Chem.  2005    48.0   5.0   \n",
       "1  CHEMBL1146957  ...  Bioorg. Med. Chem. Lett.  2006    16.0   8.0   \n",
       "2  CHEMBL1142688  ...             J. Med. Chem.  2005    48.0   5.0   \n",
       "3  CHEMBL1142688  ...             J. Med. Chem.  2005    48.0   5.0   \n",
       "4  CHEMBL1142688  ...             J. Med. Chem.  2005    48.0   5.0   \n",
       "\n",
       "   FIRST_PAGE  MOLWEIGHT  ALOGP     PSA  NUM_RO5_VIOLATIONS  Activity  \n",
       "0      1314.0     354.37   4.93   75.35                   0    Active  \n",
       "1      2205.0     419.54   2.37  107.45                   0    Active  \n",
       "2      1314.0     336.38   4.72   75.35                   0    Active  \n",
       "3      1314.0     335.40   5.51   73.32                   1    Active  \n",
       "4      1314.0     510.62   6.79   71.77                   2    Active  \n",
       "\n",
       "[5 rows x 23 columns]"
      ]
     },
     "execution_count": 2,
     "metadata": {},
     "output_type": "execute_result"
    }
   ],
   "source": [
    "df_C = pd.read_csv('HCV_NS5B_Curated.csv')\n",
    "df_C.head()"
   ]
  },
  {
   "cell_type": "code",
   "execution_count": 3,
   "id": "1a47e14d",
   "metadata": {},
   "outputs": [
    {
     "data": {
      "text/html": [
       "<div>\n",
       "<style scoped>\n",
       "    .dataframe tbody tr th:only-of-type {\n",
       "        vertical-align: middle;\n",
       "    }\n",
       "\n",
       "    .dataframe tbody tr th {\n",
       "        vertical-align: top;\n",
       "    }\n",
       "\n",
       "    .dataframe thead th {\n",
       "        text-align: right;\n",
       "    }\n",
       "</style>\n",
       "<table border=\"1\" class=\"dataframe\">\n",
       "  <thead>\n",
       "    <tr style=\"text-align: right;\">\n",
       "      <th></th>\n",
       "      <th>CMPD_CHEMBLID</th>\n",
       "      <th>CANONICAL_SMILES</th>\n",
       "      <th>STANDARD_VALUE</th>\n",
       "    </tr>\n",
       "  </thead>\n",
       "  <tbody>\n",
       "    <tr>\n",
       "      <th>0</th>\n",
       "      <td>CHEMBL179256</td>\n",
       "      <td>OC(=O)c1ccc2c(c1)nc(c3ccc(O)cc3F)n2C4CCCCC4</td>\n",
       "      <td>1.4</td>\n",
       "    </tr>\n",
       "    <tr>\n",
       "      <th>1</th>\n",
       "      <td>CHEMBL204350</td>\n",
       "      <td>CC(C)(C)CCN1[C@H](C(=C(C1=O)C2=NS(=O)(=O)c3ccc...</td>\n",
       "      <td>1.7</td>\n",
       "    </tr>\n",
       "    <tr>\n",
       "      <th>2</th>\n",
       "      <td>CHEMBL179257</td>\n",
       "      <td>OC(=O)c1ccc2c(c1)nc(c3ccc(O)cc3)n2C4CCCCC4</td>\n",
       "      <td>3.0</td>\n",
       "    </tr>\n",
       "    <tr>\n",
       "      <th>3</th>\n",
       "      <td>CHEMBL178784</td>\n",
       "      <td>OC(=O)c1ccc2c(C3CCCCC3)c([nH]c2c1)c4ccc(O)cc4</td>\n",
       "      <td>4.8</td>\n",
       "    </tr>\n",
       "    <tr>\n",
       "      <th>4</th>\n",
       "      <td>CHEMBL369319</td>\n",
       "      <td>CN(C)C(=O)Cn1c(c2ccc(OCc3ccccc3)cc2)c(C4CCCCC4...</td>\n",
       "      <td>6.0</td>\n",
       "    </tr>\n",
       "    <tr>\n",
       "      <th>...</th>\n",
       "      <td>...</td>\n",
       "      <td>...</td>\n",
       "      <td>...</td>\n",
       "    </tr>\n",
       "    <tr>\n",
       "      <th>573</th>\n",
       "      <td>CHEMBL175762</td>\n",
       "      <td>CCC(CC)n1c(nc2cc(ccc12)C(=O)O)c3ccccn3</td>\n",
       "      <td>139000.0</td>\n",
       "    </tr>\n",
       "    <tr>\n",
       "      <th>574</th>\n",
       "      <td>CHEMBL197882</td>\n",
       "      <td>Cc1sc(cc1\\C(=C\\C(=O)C(=O)O)\\O)c2ccccc2</td>\n",
       "      <td>167000.0</td>\n",
       "    </tr>\n",
       "    <tr>\n",
       "      <th>575</th>\n",
       "      <td>CHEMBL177122</td>\n",
       "      <td>OC(=O)c1ccc2c(c1)ncn2C3CCCCC3</td>\n",
       "      <td>186000.0</td>\n",
       "    </tr>\n",
       "    <tr>\n",
       "      <th>576</th>\n",
       "      <td>CHEMBL175454</td>\n",
       "      <td>OC(=O)c1ccc2c(c1)nc(c3ccccn3)n2c4ccccc4</td>\n",
       "      <td>360000.0</td>\n",
       "    </tr>\n",
       "    <tr>\n",
       "      <th>577</th>\n",
       "      <td>CHEMBL369640</td>\n",
       "      <td>CC(C)n1c(nc2cc(ccc12)C(=O)O)c3ccccn3</td>\n",
       "      <td>408000.0</td>\n",
       "    </tr>\n",
       "  </tbody>\n",
       "</table>\n",
       "<p>578 rows × 3 columns</p>\n",
       "</div>"
      ],
      "text/plain": [
       "    CMPD_CHEMBLID                                   CANONICAL_SMILES  \\\n",
       "0    CHEMBL179256        OC(=O)c1ccc2c(c1)nc(c3ccc(O)cc3F)n2C4CCCCC4   \n",
       "1    CHEMBL204350  CC(C)(C)CCN1[C@H](C(=C(C1=O)C2=NS(=O)(=O)c3ccc...   \n",
       "2    CHEMBL179257         OC(=O)c1ccc2c(c1)nc(c3ccc(O)cc3)n2C4CCCCC4   \n",
       "3    CHEMBL178784      OC(=O)c1ccc2c(C3CCCCC3)c([nH]c2c1)c4ccc(O)cc4   \n",
       "4    CHEMBL369319  CN(C)C(=O)Cn1c(c2ccc(OCc3ccccc3)cc2)c(C4CCCCC4...   \n",
       "..            ...                                                ...   \n",
       "573  CHEMBL175762             CCC(CC)n1c(nc2cc(ccc12)C(=O)O)c3ccccn3   \n",
       "574  CHEMBL197882             Cc1sc(cc1\\C(=C\\C(=O)C(=O)O)\\O)c2ccccc2   \n",
       "575  CHEMBL177122                      OC(=O)c1ccc2c(c1)ncn2C3CCCCC3   \n",
       "576  CHEMBL175454            OC(=O)c1ccc2c(c1)nc(c3ccccn3)n2c4ccccc4   \n",
       "577  CHEMBL369640               CC(C)n1c(nc2cc(ccc12)C(=O)O)c3ccccn3   \n",
       "\n",
       "     STANDARD_VALUE  \n",
       "0               1.4  \n",
       "1               1.7  \n",
       "2               3.0  \n",
       "3               4.8  \n",
       "4               6.0  \n",
       "..              ...  \n",
       "573        139000.0  \n",
       "574        167000.0  \n",
       "575        186000.0  \n",
       "576        360000.0  \n",
       "577        408000.0  \n",
       "\n",
       "[578 rows x 3 columns]"
      ]
     },
     "execution_count": 3,
     "metadata": {},
     "output_type": "execute_result"
    }
   ],
   "source": [
    "selection = ['CMPD_CHEMBLID', 'CANONICAL_SMILES', 'STANDARD_VALUE']\n",
    "df_1 = df_C[selection]\n",
    "df_1 = df_1[df_1.STANDARD_VALUE.notna()]\n",
    "df_1"
   ]
  },
  {
   "cell_type": "code",
   "execution_count": 4,
   "id": "59de08cf",
   "metadata": {},
   "outputs": [
    {
     "data": {
      "text/plain": [
       "CMPD_CHEMBLID       False\n",
       "CANONICAL_SMILES    False\n",
       "STANDARD_VALUE      False\n",
       "dtype: bool"
      ]
     },
     "execution_count": 4,
     "metadata": {},
     "output_type": "execute_result"
    }
   ],
   "source": [
    "df_1.isnull().any()"
   ]
  },
  {
   "cell_type": "code",
   "execution_count": 5,
   "id": "17440bfe",
   "metadata": {},
   "outputs": [
    {
     "data": {
      "text/html": [
       "<div>\n",
       "<style scoped>\n",
       "    .dataframe tbody tr th:only-of-type {\n",
       "        vertical-align: middle;\n",
       "    }\n",
       "\n",
       "    .dataframe tbody tr th {\n",
       "        vertical-align: top;\n",
       "    }\n",
       "\n",
       "    .dataframe thead th {\n",
       "        text-align: right;\n",
       "    }\n",
       "</style>\n",
       "<table border=\"1\" class=\"dataframe\">\n",
       "  <thead>\n",
       "    <tr style=\"text-align: right;\">\n",
       "      <th></th>\n",
       "      <th>CMPD_CHEMBLID</th>\n",
       "      <th>CANONICAL_SMILES</th>\n",
       "      <th>STANDARD_VALUE</th>\n",
       "      <th>pIC50</th>\n",
       "    </tr>\n",
       "  </thead>\n",
       "  <tbody>\n",
       "    <tr>\n",
       "      <th>0</th>\n",
       "      <td>CHEMBL179256</td>\n",
       "      <td>OC(=O)c1ccc2c(c1)nc(c3ccc(O)cc3F)n2C4CCCCC4</td>\n",
       "      <td>1.4</td>\n",
       "      <td>8.853872</td>\n",
       "    </tr>\n",
       "    <tr>\n",
       "      <th>1</th>\n",
       "      <td>CHEMBL204350</td>\n",
       "      <td>CC(C)(C)CCN1[C@H](C(=C(C1=O)C2=NS(=O)(=O)c3ccc...</td>\n",
       "      <td>1.7</td>\n",
       "      <td>8.769551</td>\n",
       "    </tr>\n",
       "    <tr>\n",
       "      <th>2</th>\n",
       "      <td>CHEMBL179257</td>\n",
       "      <td>OC(=O)c1ccc2c(c1)nc(c3ccc(O)cc3)n2C4CCCCC4</td>\n",
       "      <td>3.0</td>\n",
       "      <td>8.522879</td>\n",
       "    </tr>\n",
       "    <tr>\n",
       "      <th>3</th>\n",
       "      <td>CHEMBL178784</td>\n",
       "      <td>OC(=O)c1ccc2c(C3CCCCC3)c([nH]c2c1)c4ccc(O)cc4</td>\n",
       "      <td>4.8</td>\n",
       "      <td>8.318759</td>\n",
       "    </tr>\n",
       "    <tr>\n",
       "      <th>4</th>\n",
       "      <td>CHEMBL369319</td>\n",
       "      <td>CN(C)C(=O)Cn1c(c2ccc(OCc3ccccc3)cc2)c(C4CCCCC4...</td>\n",
       "      <td>6.0</td>\n",
       "      <td>8.221849</td>\n",
       "    </tr>\n",
       "  </tbody>\n",
       "</table>\n",
       "</div>"
      ],
      "text/plain": [
       "  CMPD_CHEMBLID                                   CANONICAL_SMILES  \\\n",
       "0  CHEMBL179256        OC(=O)c1ccc2c(c1)nc(c3ccc(O)cc3F)n2C4CCCCC4   \n",
       "1  CHEMBL204350  CC(C)(C)CCN1[C@H](C(=C(C1=O)C2=NS(=O)(=O)c3ccc...   \n",
       "2  CHEMBL179257         OC(=O)c1ccc2c(c1)nc(c3ccc(O)cc3)n2C4CCCCC4   \n",
       "3  CHEMBL178784      OC(=O)c1ccc2c(C3CCCCC3)c([nH]c2c1)c4ccc(O)cc4   \n",
       "4  CHEMBL369319  CN(C)C(=O)Cn1c(c2ccc(OCc3ccccc3)cc2)c(C4CCCCC4...   \n",
       "\n",
       "   STANDARD_VALUE     pIC50  \n",
       "0             1.4  8.853872  \n",
       "1             1.7  8.769551  \n",
       "2             3.0  8.522879  \n",
       "3             4.8  8.318759  \n",
       "4             6.0  8.221849  "
      ]
     },
     "execution_count": 5,
     "metadata": {},
     "output_type": "execute_result"
    }
   ],
   "source": [
    "norm = []\n",
    "for value in df_1.STANDARD_VALUE.values:\n",
    "    if float(value)> 100000000:\n",
    "        value = 100000000\n",
    "    mol = (-np.log10(float(value)*(10**-9)))\n",
    "    norm.append(mol)\n",
    "df_1['pIC50'] = norm\n",
    "df_1.head()"
   ]
  },
  {
   "cell_type": "code",
   "execution_count": 6,
   "id": "be50f553",
   "metadata": {},
   "outputs": [],
   "source": [
    "selection = ['CANONICAL_SMILES', 'CMPD_CHEMBLID']\n",
    "df_3 = df_1[selection]\n",
    "df_3.to_csv('molecule.smi', sep='\\t', index=False, header=False)"
   ]
  },
  {
   "cell_type": "code",
   "execution_count": 7,
   "id": "adae2d6b",
   "metadata": {},
   "outputs": [],
   "source": [
    "import zipfile\n",
    "with zipfile.ZipFile(\"padel.zip\",\"r\") as zip_ref:\n",
    "    zip_ref.extractall(\".\")"
   ]
  },
  {
   "cell_type": "code",
   "execution_count": 8,
   "id": "dbe04a9f",
   "metadata": {},
   "outputs": [],
   "source": [
    "#!type molecule.smi"
   ]
  },
  {
   "cell_type": "code",
   "execution_count": 9,
   "id": "378de8c7",
   "metadata": {},
   "outputs": [
    {
     "name": "stdout",
     "output_type": "stream",
     "text": [
      "578\n"
     ]
    }
   ],
   "source": [
    "! cat molecule.smi | wc -l"
   ]
  },
  {
   "cell_type": "code",
   "execution_count": 28,
   "id": "894ab36d",
   "metadata": {},
   "outputs": [
    {
     "name": "stdout",
     "output_type": "stream",
     "text": [
      "java -Xms1G -Xmx1G -Djava.awt.headless=true -jar ./PaDEL-Descriptor/PaDEL-Descriptor.jar -removesalt -standardizenitro -fingerprints -descriptortypes ./PaDEL-Descriptor/PubchemFingerprinter.xml -dir ./ -file descriptors_output.csv\n"
     ]
    }
   ],
   "source": [
    "!cat padel.sh \n",
    "!padel.sh"
   ]
  },
  {
   "cell_type": "code",
   "execution_count": 10,
   "id": "71e7b2bd",
   "metadata": {},
   "outputs": [
    {
     "data": {
      "text/html": [
       "<div>\n",
       "<style scoped>\n",
       "    .dataframe tbody tr th:only-of-type {\n",
       "        vertical-align: middle;\n",
       "    }\n",
       "\n",
       "    .dataframe tbody tr th {\n",
       "        vertical-align: top;\n",
       "    }\n",
       "\n",
       "    .dataframe thead th {\n",
       "        text-align: right;\n",
       "    }\n",
       "</style>\n",
       "<table border=\"1\" class=\"dataframe\">\n",
       "  <thead>\n",
       "    <tr style=\"text-align: right;\">\n",
       "      <th></th>\n",
       "      <th>PubchemFP0</th>\n",
       "      <th>PubchemFP1</th>\n",
       "      <th>PubchemFP2</th>\n",
       "      <th>PubchemFP3</th>\n",
       "      <th>PubchemFP4</th>\n",
       "      <th>PubchemFP5</th>\n",
       "      <th>PubchemFP6</th>\n",
       "      <th>PubchemFP7</th>\n",
       "      <th>PubchemFP8</th>\n",
       "      <th>PubchemFP9</th>\n",
       "      <th>...</th>\n",
       "      <th>PubchemFP872</th>\n",
       "      <th>PubchemFP873</th>\n",
       "      <th>PubchemFP874</th>\n",
       "      <th>PubchemFP875</th>\n",
       "      <th>PubchemFP876</th>\n",
       "      <th>PubchemFP877</th>\n",
       "      <th>PubchemFP878</th>\n",
       "      <th>PubchemFP879</th>\n",
       "      <th>PubchemFP880</th>\n",
       "      <th>pIC50</th>\n",
       "    </tr>\n",
       "  </thead>\n",
       "  <tbody>\n",
       "    <tr>\n",
       "      <th>0</th>\n",
       "      <td>1</td>\n",
       "      <td>1</td>\n",
       "      <td>1</td>\n",
       "      <td>0</td>\n",
       "      <td>0</td>\n",
       "      <td>0</td>\n",
       "      <td>0</td>\n",
       "      <td>0</td>\n",
       "      <td>0</td>\n",
       "      <td>1</td>\n",
       "      <td>...</td>\n",
       "      <td>0</td>\n",
       "      <td>0</td>\n",
       "      <td>0</td>\n",
       "      <td>0</td>\n",
       "      <td>0</td>\n",
       "      <td>0</td>\n",
       "      <td>0</td>\n",
       "      <td>0</td>\n",
       "      <td>0</td>\n",
       "      <td>8.853872</td>\n",
       "    </tr>\n",
       "    <tr>\n",
       "      <th>1</th>\n",
       "      <td>1</td>\n",
       "      <td>1</td>\n",
       "      <td>1</td>\n",
       "      <td>0</td>\n",
       "      <td>0</td>\n",
       "      <td>0</td>\n",
       "      <td>0</td>\n",
       "      <td>0</td>\n",
       "      <td>0</td>\n",
       "      <td>1</td>\n",
       "      <td>...</td>\n",
       "      <td>0</td>\n",
       "      <td>0</td>\n",
       "      <td>0</td>\n",
       "      <td>0</td>\n",
       "      <td>0</td>\n",
       "      <td>0</td>\n",
       "      <td>0</td>\n",
       "      <td>0</td>\n",
       "      <td>0</td>\n",
       "      <td>8.769551</td>\n",
       "    </tr>\n",
       "    <tr>\n",
       "      <th>2</th>\n",
       "      <td>1</td>\n",
       "      <td>1</td>\n",
       "      <td>1</td>\n",
       "      <td>0</td>\n",
       "      <td>0</td>\n",
       "      <td>0</td>\n",
       "      <td>0</td>\n",
       "      <td>0</td>\n",
       "      <td>0</td>\n",
       "      <td>1</td>\n",
       "      <td>...</td>\n",
       "      <td>0</td>\n",
       "      <td>0</td>\n",
       "      <td>0</td>\n",
       "      <td>0</td>\n",
       "      <td>0</td>\n",
       "      <td>0</td>\n",
       "      <td>0</td>\n",
       "      <td>0</td>\n",
       "      <td>0</td>\n",
       "      <td>8.522879</td>\n",
       "    </tr>\n",
       "    <tr>\n",
       "      <th>3</th>\n",
       "      <td>1</td>\n",
       "      <td>1</td>\n",
       "      <td>1</td>\n",
       "      <td>0</td>\n",
       "      <td>0</td>\n",
       "      <td>0</td>\n",
       "      <td>0</td>\n",
       "      <td>0</td>\n",
       "      <td>0</td>\n",
       "      <td>1</td>\n",
       "      <td>...</td>\n",
       "      <td>0</td>\n",
       "      <td>0</td>\n",
       "      <td>0</td>\n",
       "      <td>0</td>\n",
       "      <td>0</td>\n",
       "      <td>0</td>\n",
       "      <td>0</td>\n",
       "      <td>0</td>\n",
       "      <td>0</td>\n",
       "      <td>8.318759</td>\n",
       "    </tr>\n",
       "    <tr>\n",
       "      <th>4</th>\n",
       "      <td>1</td>\n",
       "      <td>1</td>\n",
       "      <td>1</td>\n",
       "      <td>0</td>\n",
       "      <td>0</td>\n",
       "      <td>0</td>\n",
       "      <td>0</td>\n",
       "      <td>0</td>\n",
       "      <td>0</td>\n",
       "      <td>1</td>\n",
       "      <td>...</td>\n",
       "      <td>0</td>\n",
       "      <td>0</td>\n",
       "      <td>0</td>\n",
       "      <td>0</td>\n",
       "      <td>0</td>\n",
       "      <td>0</td>\n",
       "      <td>0</td>\n",
       "      <td>0</td>\n",
       "      <td>0</td>\n",
       "      <td>8.221849</td>\n",
       "    </tr>\n",
       "  </tbody>\n",
       "</table>\n",
       "<p>5 rows × 882 columns</p>\n",
       "</div>"
      ],
      "text/plain": [
       "   PubchemFP0  PubchemFP1  PubchemFP2  PubchemFP3  PubchemFP4  PubchemFP5  \\\n",
       "0           1           1           1           0           0           0   \n",
       "1           1           1           1           0           0           0   \n",
       "2           1           1           1           0           0           0   \n",
       "3           1           1           1           0           0           0   \n",
       "4           1           1           1           0           0           0   \n",
       "\n",
       "   PubchemFP6  PubchemFP7  PubchemFP8  PubchemFP9  ...  PubchemFP872  \\\n",
       "0           0           0           0           1  ...             0   \n",
       "1           0           0           0           1  ...             0   \n",
       "2           0           0           0           1  ...             0   \n",
       "3           0           0           0           1  ...             0   \n",
       "4           0           0           0           1  ...             0   \n",
       "\n",
       "   PubchemFP873  PubchemFP874  PubchemFP875  PubchemFP876  PubchemFP877  \\\n",
       "0             0             0             0             0             0   \n",
       "1             0             0             0             0             0   \n",
       "2             0             0             0             0             0   \n",
       "3             0             0             0             0             0   \n",
       "4             0             0             0             0             0   \n",
       "\n",
       "   PubchemFP878  PubchemFP879  PubchemFP880     pIC50  \n",
       "0             0             0             0  8.853872  \n",
       "1             0             0             0  8.769551  \n",
       "2             0             0             0  8.522879  \n",
       "3             0             0             0  8.318759  \n",
       "4             0             0             0  8.221849  \n",
       "\n",
       "[5 rows x 882 columns]"
      ]
     },
     "execution_count": 10,
     "metadata": {},
     "output_type": "execute_result"
    }
   ],
   "source": [
    "df_5 = pd.read_csv('descriptors_output.csv')\n",
    "df_5 = df_5.drop(columns='Name')\n",
    "df_6 = pd.concat([df_5, df_1.pIC50], axis=1)\n",
    "df_6.head()"
   ]
  },
  {
   "cell_type": "code",
   "execution_count": 11,
   "id": "96a8b0aa",
   "metadata": {},
   "outputs": [
    {
     "data": {
      "text/plain": [
       "False"
      ]
     },
     "execution_count": 11,
     "metadata": {},
     "output_type": "execute_result"
    }
   ],
   "source": [
    "np.any(np.isnan(df_6))"
   ]
  },
  {
   "cell_type": "code",
   "execution_count": 12,
   "id": "ad808762",
   "metadata": {},
   "outputs": [],
   "source": [
    "X = df_6.drop('pIC50', axis=1)\n",
    "Y = df_6['pIC50']"
   ]
  },
  {
   "cell_type": "markdown",
   "id": "4669164b",
   "metadata": {},
   "source": [
    "# Building the model"
   ]
  },
  {
   "cell_type": "code",
   "execution_count": 13,
   "id": "7f3f2c16",
   "metadata": {},
   "outputs": [],
   "source": [
    "import seaborn as sns\n",
    "from sklearn.model_selection import train_test_split\n",
    "from sklearn.ensemble import RandomForestRegressor\n",
    "from sklearn import linear_model\n",
    "from sklearn.feature_selection import VarianceThreshold"
   ]
  },
  {
   "cell_type": "code",
   "execution_count": 14,
   "id": "353b7b8c",
   "metadata": {},
   "outputs": [],
   "source": [
    "def variance_threshold_selector(data, threshold=(0.0015)):\n",
    "    selector = VarianceThreshold(threshold)\n",
    "    selector.fit(data)\n",
    "    return data[data.columns[selector.get_support(indices=True)]]\n",
    "\n",
    "x = variance_threshold_selector(X) #keeps as dataframe"
   ]
  },
  {
   "cell_type": "code",
   "execution_count": 15,
   "id": "03d69e3a",
   "metadata": {},
   "outputs": [],
   "source": [
    "x_train, x_test, Y_train, Y_test = train_test_split(x, Y, test_size=0.13)"
   ]
  },
  {
   "cell_type": "code",
   "execution_count": 16,
   "id": "22f35d39",
   "metadata": {},
   "outputs": [
    {
     "data": {
      "text/plain": [
       "(76, 548)"
      ]
     },
     "execution_count": 16,
     "metadata": {},
     "output_type": "execute_result"
    }
   ],
   "source": [
    "x_test.shape"
   ]
  },
  {
   "cell_type": "markdown",
   "id": "7c70d381",
   "metadata": {},
   "source": [
    "# Linear regression"
   ]
  },
  {
   "cell_type": "code",
   "execution_count": 17,
   "id": "d1461351",
   "metadata": {},
   "outputs": [],
   "source": [
    "from IPython.display import clear_output\n",
    "import matplotlib.pyplot as plt"
   ]
  },
  {
   "cell_type": "code",
   "execution_count": 18,
   "id": "b01b54e8",
   "metadata": {},
   "outputs": [],
   "source": [
    "#Cost function\n",
    "def cost(x, y, w, b, lambda_):\n",
    "    \n",
    "    x = np.array(x)\n",
    "    m = x.shape[0]\n",
    "    y = np.array(y).reshape(m)\n",
    "    w = np.array(w).reshape(n)\n",
    "    \n",
    "    f_x = np.dot(x, w) + b                #array shape (m,)\n",
    "    cost = (lambda_/(2*m))*(sum(w**2)) + (sum((f_x - y)**2)) / (2*m)      #scalar\n",
    "    return cost\n",
    "\n",
    "def gradient(x, y, w, b, lambda_):\n",
    "    \n",
    "    x = np.array(x)\n",
    "    m = x.shape[0]\n",
    "    y = np.array(y).reshape(m)\n",
    "    w = np.array(w).reshape(n)\n",
    "    \n",
    "    f_x = np.dot(x, w) + b  #array shape(m,)\n",
    "    \n",
    "    d_dw = (w*lambda_/m) +  (np.dot((f_x - y), x) / m)\n",
    "    d_db = sum(f_x - y) / m\n",
    "    return d_dw, d_db\n",
    "\n",
    "def descent(x, y, w_in, b_in, num_itr, lambda_, alpha, cost, gradient):\n",
    "    \n",
    "    w = w_in\n",
    "    b = b_in\n",
    "    \n",
    "    cost_history = np.zeros(num_itr)\n",
    "    w_history = np.zeros([num_itr, n])\n",
    "    b_history = np.zeros(num_itr)\n",
    "    \n",
    "    for i in range(num_itr):\n",
    "        d_dw, d_db = gradient(x, y, w, b, lambda_)\n",
    "        \n",
    "        w = w - alpha * d_dw\n",
    "        b = b - alpha * d_db\n",
    "        \n",
    "        cost_history[i] = cost(x, y, w, b, lambda_)\n",
    "        b_history[i] = b\n",
    "        w_history[i] = w\n",
    "        \n",
    "        if i%(num_itr/10) == 0:\n",
    "            print(f'Iteration = {i}, cost = {cost_history[i]}, b = {b_history[i]}')\n",
    "    return cost_history, w_history, b_history"
   ]
  },
  {
   "cell_type": "code",
   "execution_count": 59,
   "id": "6613d9dc",
   "metadata": {},
   "outputs": [
    {
     "name": "stdout",
     "output_type": "stream",
     "text": [
      "Iteration = 0, cost = 1.5057838987165375, b = 0.06327921045321476\n",
      "Iteration = 2000, cost = 0.22950583457386925, b = 0.3193156023639321\n",
      "Iteration = 4000, cost = 0.2260874796390101, b = 0.49329860618999966\n",
      "Iteration = 6000, cost = 0.22459245619794385, b = 0.6568760336675716\n",
      "Iteration = 8000, cost = 0.22332675356605572, b = 0.8127059620095348\n",
      "Iteration = 10000, cost = 0.22217982316288493, b = 0.9614709442007461\n",
      "Iteration = 12000, cost = 0.22113392216537886, b = 1.1035606639110724\n",
      "Iteration = 14000, cost = 0.22017951529542013, b = 1.239292149906218\n",
      "Iteration = 16000, cost = 0.21930853124538352, b = 1.3689546622678679\n",
      "Iteration = 18000, cost = 0.2185136705143975, b = 1.492820913876326\n"
     ]
    }
   ],
   "source": [
    "x = x_train\n",
    "y = Y_train\n",
    "n = x.shape[1]\n",
    "w_in = np.zeros(n)\n",
    "b_in = 0\n",
    "alpha = 0.01\n",
    "num_itr = 20000\n",
    "lambda_ = 24\n",
    "cost_history, w_history, b_history = descent(x, y, w_in, b_in, num_itr, lambda_, alpha, cost, gradient)\n",
    "w_final = w_history[-1]\n",
    "cost_final = cost_history[-1]\n",
    "b_final = b_history[-1]"
   ]
  },
  {
   "cell_type": "code",
   "execution_count": 60,
   "id": "3832440c",
   "metadata": {},
   "outputs": [
    {
     "data": {
      "image/png": "[encoded data removed]",
      "text/plain": [
       "<Figure size 432x288 with 1 Axes>"
      ]
     },
     "metadata": {},
     "output_type": "display_data"
    }
   ],
   "source": [
    "\n",
    "plt.plot(cost_history)\n",
    "plt.title('Cost vs number of iterations', size = 'large')\n",
    "plt.xlabel('number of iterations')\n",
    "plt.ylabel('cost (MSE)')\n",
    "plt.show()"
   ]
  },
  {
   "cell_type": "code",
   "execution_count": 67,
   "id": "5ac82363",
   "metadata": {},
   "outputs": [],
   "source": [
    "def r_squared(y, y_hat):\n",
    "    y_bar = y.mean()\n",
    "    ss_tot = ((y-y_bar)**2).sum()\n",
    "    ss_res = ((y-y_hat)**2).sum()\n",
    "    return 1 - (ss_res/ss_tot)"
   ]
  },
  {
   "cell_type": "markdown",
   "id": "1f73cdc4",
   "metadata": {},
   "source": [
    "### Test data vs Predictions"
   ]
  },
  {
   "cell_type": "code",
   "execution_count": 68,
   "id": "53b9775e",
   "metadata": {},
   "outputs": [
    {
     "data": {
      "image/png": "[encoded data removed]",
      "text/plain": [
       "<Figure size 432x288 with 1 Axes>"
      ]
     },
     "metadata": {},
     "output_type": "display_data"
    }
   ],
   "source": [
    "x = np.array(x_test)\n",
    "y_pred = np.dot(x, w_final) + b_final\n",
    "ax = sns.regplot(x=Y_test,y=y_pred, scatter_kws={'alpha': 0.4})\n",
    "ax.set_xlabel('Experimental pIC50', fontsize='large', fontweight='bold')\n",
    "ax.set_ylabel('predicted pIC50', fontsize='large', fontweight='bold')\n",
    "ax.set_xlim(3,9)\n",
    "ax.set_ylim(3,9)\n",
    "ax.set_title('Testing data vs predictions (Linear regression)', size = 'large')\n",
    "#ax.figure.set_size_inches(5, 5)\n",
    "#plt.show()\n",
    "#plt.plot(x_line, y_line, c= 'r', linestyle='dashed')\n",
    "plt.text(1, 1, f'R-squared value = {round(r_squared(Y_test, y_pred),2)}', size='x-large')\n",
    "plt.show()"
   ]
  },
  {
   "cell_type": "markdown",
   "id": "ff7d10be",
   "metadata": {},
   "source": [
    "### Training data vs Predictions"
   ]
  },
  {
   "cell_type": "code",
   "execution_count": 66,
   "id": "9ae20c4e",
   "metadata": {},
   "outputs": [
    {
     "data": {
      "image/png": "[encoded data removed]",
      "text/plain": [
       "<Figure size 432x288 with 1 Axes>"
      ]
     },
     "metadata": {},
     "output_type": "display_data"
    }
   ],
   "source": [
    "x = np.array(x_train)\n",
    "y_pred = np.dot(x, w_final) + b_final\n",
    "ax = sns.regplot(x=Y_train,y=y_pred, scatter_kws={'alpha': 0.4})\n",
    "ax.set_xlabel('Experimental pIC50', fontsize='large', fontweight='bold')\n",
    "ax.set_ylabel('predicted pIC50', fontsize='large', fontweight='bold')\n",
    "ax.set_xlim(3,9)\n",
    "ax.set_ylim(3,9)\n",
    "ax.set_title('Training data vs predictions (Linear regression)', size = 'large')\n",
    "#ax.figure.set_size_inches(5, 5)\n",
    "#plt.show()\n",
    "#plt.plot(x_line, y_line, c= 'r', linestyle='dashed')\n",
    "plt.text(1, 1, f'R-squared value = {round(r_squared(Y_train, y_pred),2)}', size='x-large')\n",
    "plt.show()"
   ]
  },
  {
   "cell_type": "code",
   "execution_count": 54,
   "id": "7b1b0c00",
   "metadata": {},
   "outputs": [
    {
     "name": "stdout",
     "output_type": "stream",
     "text": [
      " lambda 24 done\n"
     ]
    },
    {
     "data": {
      "text/plain": [
       "[0.6276164056069033,\n",
       " 0.6708788208544838,\n",
       " 0.6882182388475284,\n",
       " 0.6970111001605935,\n",
       " 0.7018914286253026,\n",
       " 0.7046239905750655,\n",
       " 0.7060540225699712]"
      ]
     },
     "execution_count": 54,
     "metadata": {},
     "output_type": "execute_result"
    }
   ],
   "source": [
    "x = x_train\n",
    "y = Y_train\n",
    "n = x.shape[1]\n",
    "r_test_history = []\n",
    "r_train_history = []\n",
    "cost_h = []\n",
    "for i in range(0, 25, 4):\n",
    "    cost_history, w_history, b_history = descent(x, y, w_in, b_in, num_itr, i, alpha, cost, gradient)\n",
    "    w_final = w_history[-1]\n",
    "    cost_final = cost_history[-1]\n",
    "    b_final = b_history[-1]\n",
    "    x_test = np.array(x_test)\n",
    "    y_pred = np.dot(x_test, w_final) + b_final\n",
    "    r_test_history.append(r_squared(Y_test, y_pred))\n",
    "    y_pred = np.dot(x_train, w_final) + b_final\n",
    "    r_train_history.append(r_squared(Y_train, y_pred))\n",
    "    cost_h.append(cost_final)\n",
    "    clear_output()\n",
    "    print(f' lambda {i} done')\n",
    "r_test_history"
   ]
  },
  {
   "cell_type": "code",
   "execution_count": 55,
   "id": "e1d990c4",
   "metadata": {},
   "outputs": [],
   "source": [
    "norm_test = r_test_history/np.array(r_test_history).max()\n",
    "norm_train = r_train_history/np.array(r_train_history).max()"
   ]
  },
  {
   "cell_type": "code",
   "execution_count": 56,
   "id": "f8ca3292",
   "metadata": {},
   "outputs": [
    {
     "data": {
      "image/png": "[encoded data removed]",
      "text/plain": [
       "<Figure size 432x288 with 1 Axes>"
      ]
     },
     "metadata": {},
     "output_type": "display_data"
    }
   ],
   "source": [
    "plt.Figure(figsize=(15,20))\n",
    "plt.plot(range(0, 25, 4),r_test_history, label = 'R-squared test data')\n",
    "plt.plot(range(0, 25, 4),r_train_history, label = 'R-squared train data')\n",
    "\n",
    "plt.xlabel('Lambda')\n",
    "plt.ylabel('R-squared')\n",
    "plt.title('R-squared vs Lambda', size = 'large')\n",
    "plt.legend()\n",
    "plt.show()"
   ]
  },
  {
   "cell_type": "code",
   "execution_count": 57,
   "id": "fd0c1284",
   "metadata": {},
   "outputs": [
    {
     "data": {
      "image/png": "[encoded data removed]",
      "text/plain": [
       "<Figure size 432x288 with 1 Axes>"
      ]
     },
     "metadata": {},
     "output_type": "display_data"
    }
   ],
   "source": [
    "plt.Figure(figsize=(15,20))\n",
    "plt.plot(range(0, 25, 4),norm_test, label = 'R-squared (normalized) for test data')\n",
    "plt.plot(range(0, 25, 4),norm_train, label = 'R-squared (normalized) for train data')\n",
    "\n",
    "plt.xlabel('Lambda')\n",
    "plt.ylabel('R-squared normalized (divided by max)')\n",
    "plt.title('R-squared (normalized) vs Lambda', size = 'large')\n",
    "plt.legend()\n",
    "plt.show()"
   ]
  },
  {
   "cell_type": "code",
   "execution_count": 58,
   "id": "0fce2ab9",
   "metadata": {},
   "outputs": [
    {
     "data": {
      "image/png": "[encoded data removed]",
      "text/plain": [
       "<Figure size 432x288 with 1 Axes>"
      ]
     },
     "metadata": {},
     "output_type": "display_data"
    }
   ],
   "source": [
    "plt.Figure(figsize=(15,20))\n",
    "plt.plot(range(0, 25, 4), cost_h)\n",
    "plt.xlabel('Lambda')\n",
    "plt.ylabel('model cost (mean squared-error)')\n",
    "plt.title('Cost (MSE) vs Lambda', size = 'large')\n",
    "plt.show()"
   ]
  },
  {
   "cell_type": "markdown",
   "id": "17835365",
   "metadata": {},
   "source": [
    "## Random Forest  - Sklearn"
   ]
  },
  {
   "cell_type": "code",
   "execution_count": 16,
   "id": "a852c1f0",
   "metadata": {},
   "outputs": [
    {
     "data": {
      "text/plain": [
       "0.7040055794389639"
      ]
     },
     "execution_count": 16,
     "metadata": {},
     "output_type": "execute_result"
    }
   ],
   "source": [
    "import numpy as np\n",
    "\n",
    "model = RandomForestRegressor(n_estimators=580)\n",
    "model.fit(x_train, Y_train)\n",
    "r2 = model.score(x_test, Y_test)\n",
    "r2"
   ]
  },
  {
   "cell_type": "code",
   "execution_count": 23,
   "id": "758b2bd8",
   "metadata": {},
   "outputs": [
    {
     "data": {
      "image/png": "[encoded data removed]",
      "text/plain": [
       "<Figure size 360x360 with 1 Axes>"
      ]
     },
     "metadata": {},
     "output_type": "display_data"
    }
   ],
   "source": [
    "Y_pred = model.predict(x_test)\n",
    "import seaborn as sns\n",
    "import matplotlib.pyplot as plt\n",
    "\n",
    "sns.set(color_codes=True)\n",
    "sns.set_style(\"white\")\n",
    "\n",
    "ax = sns.regplot(x=Y_test,y=Y_pred, scatter_kws={'alpha': 0.4})\n",
    "ax.set_xlabel('Experimental pIC50', fontsize='large', fontweight='bold')\n",
    "ax.set_ylabel('predicted pIC50', fontsize='large', fontweight='bold')\n",
    "ax.set_xlim(3,9)\n",
    "ax.set_ylim(3,9)\n",
    "ax.set_title('Testing data vs predictions (RandomForest)', size = 'large')\n",
    "ax.figure.set_size_inches(5, 5)\n",
    "plt.show()"
   ]
  }
 ],
 "metadata": {
  "kernelspec": {
   "display_name": "Python 3 (ipykernel)",
   "language": "python",
   "name": "python3"
  },
  "language_info": {
   "codemirror_mode": {
    "name": "ipython",
    "version": 3
   },
   "file_extension": ".py",
   "mimetype": "text/x-python",
   "name": "python",
   "nbconvert_exporter": "python",
   "pygments_lexer": "ipython3",
   "version": "3.9.7"
  }
 },
 "nbformat": 4,
 "nbformat_minor": 5
}
