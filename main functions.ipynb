{
 "cells": [
  {
   "cell_type": "code",
   "execution_count": 1,
   "id": "0b70390d",
   "metadata": {},
   "outputs": [],
   "source": [
    "#find the count of identical consecutive nucleotides:\n",
    "import pandas as pd\n",
    "import textwrap\n",
    "import numpy as np\n",
    "\n",
    "\n",
    "def DNA_reps(n):\n",
    "#variable n is the file number; for the file:'sequences/1.txt', n = 1\n",
    "    L = []\n",
    "    df = pd.read_csv(f'sequences/{n}.txt')\n",
    "    for col in df:\n",
    "        d = textwrap.wrap(col, 4)\n",
    "        print(d)\n",
    "        for i in range(0, len(d)-1):\n",
    "            if d[i] == d[i+1]:\n",
    "                L.append(d[i])\n",
    "        values, counts = np.unique(L, return_counts = True)\n",
    "        for z in range(0, len(values)):\n",
    "            print(values[z], counts[z]+1)"
   ]
  },
  {
   "cell_type": "code",
   "execution_count": 4,
   "id": "d38b3fe1",
   "metadata": {},
   "outputs": [
    {
     "name": "stdout",
     "output_type": "stream",
     "text": [
      "The number of DNA nucleotides is:  13\n"
     ]
    }
   ],
   "source": [
    "#Find number of DNA nucleotides:\n",
    "dna = 'AGTTAGCTAGGAG'\n",
    "Length_of_dna = len(dna)\n",
    "print(\"The number of DNA nucleotides is: \", Length_of_dna)\n"
   ]
  },
  {
   "cell_type": "code",
   "execution_count": 16,
   "id": "da31726b",
   "metadata": {},
   "outputs": [
    {
     "name": "stdout",
     "output_type": "stream",
     "text": [
      "the number of genes is:  3\n"
     ]
    }
   ],
   "source": [
    "#Find number of genes:\n",
    "# print(\"the number of genes is: \", i)\n",
    "#or\n",
    "number_of_genes = len(dna_seq) // 4\n",
    "print(\"the number of genes is: \", number_of_genes)"
   ]
  },
  {
   "cell_type": "code",
   "execution_count": 18,
   "id": "3bd09c66",
   "metadata": {},
   "outputs": [
    {
     "name": "stdout",
     "output_type": "stream",
     "text": [
      "the number of genes is:  3\n"
     ]
    }
   ],
   "source": [
    "#Find number of genes:\n",
    "dna_seq = 'AGTTAGCTAGGAG'\n",
    "d = textwrap.wrap(dna_seq, 4)\n",
    "i = 0\n",
    "for dna in d:\n",
    "    if len(dna) == 4:\n",
    "        i = i+1\n",
    "print(\"the number of genes is: \", i)"
   ]
  },
  {
   "cell_type": "code",
   "execution_count": 20,
   "id": "46386278",
   "metadata": {},
   "outputs": [
    {
     "name": "stdout",
     "output_type": "stream",
     "text": [
      "the percentage of GC in the sequence is:  46.15 %\n"
     ]
    }
   ],
   "source": [
    "#find gc percentage\n",
    "dna = 'AGTTAGCTAGGAG'\n",
    "g = dna_seq.count('G')\n",
    "c = dna_seq.count('C')\n",
    "a = dna_seq.count('A')\n",
    "t = dna_seq.count('T')\n",
    "Length_of_dna = len(dna)\n",
    "\n",
    "gc_percentage = round(((g + c)/Length_of_dna)*100, 2)\n",
    "print(f'the percentage of GC in the sequence is: ', gc_percentage, '%')"
   ]
  },
  {
   "cell_type": "code",
   "execution_count": null,
   "id": "8b1ae830",
   "metadata": {},
   "outputs": [],
   "source": []
  }
 ],
 "metadata": {
  "kernelspec": {
   "display_name": "Python 3 (ipykernel)",
   "language": "python",
   "name": "python3"
  },
  "language_info": {
   "codemirror_mode": {
    "name": "ipython",
    "version": 3
   },
   "file_extension": ".py",
   "mimetype": "text/x-python",
   "name": "python",
   "nbconvert_exporter": "python",
   "pygments_lexer": "ipython3",
   "version": "3.9.7"
  }
 },
 "nbformat": 4,
 "nbformat_minor": 5
}
